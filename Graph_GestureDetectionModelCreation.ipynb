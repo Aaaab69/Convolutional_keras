{
  "cells": [
    {
      "cell_type": "code",
      "execution_count": 1,
      "metadata": {
        "colab": {
          "base_uri": "https://localhost:8080/"
        },
        "id": "_o5z0BZvzHq6",
        "outputId": "413505d6-2e0b-4fc7-de3c-bfc3ed98ec1f"
      },
      "outputs": [
        {
          "output_type": "stream",
          "name": "stdout",
          "text": [
            "Mounted at /content/drive\n"
          ]
        }
      ],
      "source": [
        "from google.colab import drive\n",
        "drive.mount('/content/drive')"
      ]
    },
    {
      "cell_type": "markdown",
      "metadata": {
        "id": "P0LtvQErHK2Y"
      },
      "source": [
        "Importing the necessary libraries"
      ]
    },
    {
      "cell_type": "code",
      "execution_count": 2,
      "metadata": {
        "id": "LN1N0stJwxdV"
      },
      "outputs": [],
      "source": [
        "import numpy as np\n",
        "import os\n",
        "import pandas as pd\n",
        "import cv2\n",
        "import matplotlib.pyplot as plt\n",
        "%matplotlib inline\n",
        "import tensorflow as tf\n",
        "import keras\n",
        "from keras import layers\n",
        "import numpy as np\n",
        "from keras.layers import Conv2D, Dense, Flatten, Dropout, MaxPooling2D\n",
        "from keras.models import Sequential, save_model\n",
        "from keras.utils import np_utils\n",
        "from keras.callbacks import ModelCheckpoint\n",
        "from sklearn.model_selection import train_test_split\n",
        "from sklearn.utils import shuffle\n",
        "import os\n",
        "import cv2\n",
        "from keras.preprocessing.image import ImageDataGenerator\n",
        "from keras.models import Model,load_model\n",
        "from keras.layers import Input, Dense, Add,Activation, AveragePooling2D, BatchNormalization, Flatten, Conv2D, MaxPooling2D, Dropout, ZeroPadding2D\n",
        "from keras.utils import to_categorical\n",
        "from keras.initializers import glorot_uniform\n",
        "from keras import regularizers\n",
        "import scipy.misc\n",
        "from sklearn.model_selection import train_test_split\n"
      ]
    },
    {
      "cell_type": "code",
      "execution_count": 3,
      "metadata": {
        "id": "7mpfokyiyn5-"
      },
      "outputs": [],
      "source": [
        "root_directory=\"/content/drive/MyDrive/DATASETS/\"\n",
        "survival_words_directory=\"/content/drive/MyDrive/DATASETS/25_survival_words/\"\n",
        "alphabets_directory=\"/content/drive/MyDrive/DATASETS/ALPHABETS/\"\n",
        "numbers_directory=\"/content/drive/MyDrive/DATASETS/NUMBERS/\""
      ]
    },
    {
      "cell_type": "code",
      "execution_count": 4,
      "metadata": {
        "id": "iHFE9KsI05pw"
      },
      "outputs": [],
      "source": [
        "k=0"
      ]
    },
    {
      "cell_type": "markdown",
      "metadata": {
        "id": "eSWRvOWNHK2b"
      },
      "source": [
        "Creating numpy arrays of elements an labelling array"
      ]
    },
    {
      "cell_type": "code",
      "execution_count": 5,
      "metadata": {
        "id": "tlG0ZBcvz0o9"
      },
      "outputs": [],
      "source": [
        "def load_dataset(directory,k):\n",
        "  images=[]\n",
        "  labels=[]\n",
        "  for idx,label in enumerate(uniq_labels):\n",
        "    for file in os.listdir(directory + label):\n",
        "      filepath = directory + label +\"/\" + file\n",
        "      img = cv2.resize(cv2.imread(filepath),(50,50))\n",
        "      images.append(img)\n",
        "      labels.append(k)\n",
        "    k+=1\n",
        "  images = np.asarray(images)\n",
        "  labels = np.asarray(labels)\n",
        "  return images, labels,k"
      ]
    },
    {
      "cell_type": "code",
      "execution_count": null,
      "metadata": {
        "id": "_Ga2kbhplYR5"
      },
      "outputs": [],
      "source": [
        "# uniq_labels=sorted(os.listdir(alphabets_directory))\n",
        "# print(uniq_labels)"
      ]
    },
    {
      "cell_type": "code",
      "execution_count": 6,
      "metadata": {
        "id": "pjg6OXTO1nWt"
      },
      "outputs": [],
      "source": [
        "uniq_labels=sorted(os.listdir(numbers_directory))\n",
        "X_numbers_directory,y_numbers_directory,k=load_dataset(numbers_directory,k)"
      ]
    },
    {
      "cell_type": "code",
      "execution_count": null,
      "metadata": {
        "id": "RSdYfPquDOOF"
      },
      "outputs": [],
      "source": [
        "# /content/drive/MyDrive/DATASETS/NUMBERS"
      ]
    },
    {
      "cell_type": "code",
      "execution_count": 7,
      "metadata": {
        "colab": {
          "base_uri": "https://localhost:8080/"
        },
        "id": "TCj2kwvR-ELb",
        "outputId": "9a7123aa-f04c-41a2-a066-a0ae548c15a4"
      },
      "outputs": [
        {
          "output_type": "execute_result",
          "data": {
            "text/plain": [
              "array([0, 0, 0, ..., 9, 9, 9])"
            ]
          },
          "metadata": {},
          "execution_count": 7
        }
      ],
      "source": [
        "y_numbers_directory\n"
      ]
    },
    {
      "cell_type": "code",
      "execution_count": 9,
      "metadata": {
        "id": "WFNry9Q74fuk"
      },
      "outputs": [],
      "source": [
        "uniq_labels=sorted(os.listdir(alphabets_directory))\n",
        "X_alphabets_directory,y_alphabets_directory,k=load_dataset(alphabets_directory,k)"
      ]
    },
    {
      "cell_type": "code",
      "execution_count": 10,
      "metadata": {
        "colab": {
          "base_uri": "https://localhost:8080/"
        },
        "id": "hCtZQmSqltyY",
        "outputId": "f924567a-4ed0-4f0f-95a0-3e0bd138d27e"
      },
      "outputs": [
        {
          "output_type": "execute_result",
          "data": {
            "text/plain": [
              "array([35, 35, 35, ..., 59, 59, 59])"
            ]
          },
          "metadata": {},
          "execution_count": 10
        }
      ],
      "source": [
        "y_alphabets_directory"
      ]
    },
    {
      "cell_type": "code",
      "execution_count": 11,
      "metadata": {
        "id": "-PkTSvxZ6P3U"
      },
      "outputs": [],
      "source": [
        "uniq_labels=sorted(os.listdir(survival_words_directory))\n",
        "X_survival_words_directory,y_survival_words_directory,k=load_dataset(survival_words_directory,k)"
      ]
    },
    {
      "cell_type": "code",
      "execution_count": 12,
      "metadata": {
        "colab": {
          "base_uri": "https://localhost:8080/"
        },
        "id": "eK6HcZSL7qsh",
        "outputId": "25a9f9fd-f463-4f6c-85d0-5bbfb322ba82"
      },
      "outputs": [
        {
          "output_type": "execute_result",
          "data": {
            "text/plain": [
              "array([60, 60, 60, ..., 84, 84, 84])"
            ]
          },
          "metadata": {},
          "execution_count": 12
        }
      ],
      "source": [
        "y_survival_words_directory"
      ]
    },
    {
      "cell_type": "code",
      "execution_count": 13,
      "metadata": {
        "id": "AAlKyRer7sIJ"
      },
      "outputs": [],
      "source": [
        "X=[]\n",
        "y=[]"
      ]
    },
    {
      "cell_type": "code",
      "execution_count": 14,
      "metadata": {
        "id": "lcyyqHLMjswn"
      },
      "outputs": [],
      "source": [
        "X=np.concatenate((X_numbers_directory,X_alphabets_directory))"
      ]
    },
    {
      "cell_type": "code",
      "execution_count": 15,
      "metadata": {
        "id": "Okvdf-GbkMmz"
      },
      "outputs": [],
      "source": [
        "X=np.concatenate((X,X_survival_words_directory))"
      ]
    },
    {
      "cell_type": "code",
      "execution_count": 16,
      "metadata": {
        "id": "GKmTIu-PkVbt"
      },
      "outputs": [],
      "source": [
        "y=np.concatenate((y_numbers_directory,y_alphabets_directory))"
      ]
    },
    {
      "cell_type": "code",
      "execution_count": 17,
      "metadata": {
        "id": "RHtlZHHrkdyW"
      },
      "outputs": [],
      "source": [
        "y=np.concatenate((y,y_survival_words_directory))"
      ]
    },
    {
      "cell_type": "code",
      "execution_count": 18,
      "metadata": {
        "colab": {
          "base_uri": "https://localhost:8080/"
        },
        "id": "JsdGZs00dyQX",
        "outputId": "4119752b-aa48-4bac-87fe-825c26bac1df"
      },
      "outputs": [
        {
          "output_type": "execute_result",
          "data": {
            "text/plain": [
              "array([ 0,  0,  0, ..., 84, 84, 84])"
            ]
          },
          "metadata": {},
          "execution_count": 18
        }
      ],
      "source": [
        "y"
      ]
    },
    {
      "cell_type": "code",
      "execution_count": 19,
      "metadata": {
        "id": "rdDMt6jbsoZ0"
      },
      "outputs": [],
      "source": [
        "# list(y.keys())\n",
        "y = to_categorical(y)\n"
      ]
    },
    {
      "cell_type": "code",
      "execution_count": 20,
      "metadata": {
        "id": "Otmh-cbEkhVO"
      },
      "outputs": [],
      "source": [
        "X_train, X_test, Y_train, Y_test = train_test_split(X, y, test_size = 0.2)"
      ]
    },
    {
      "cell_type": "code",
      "execution_count": 21,
      "metadata": {
        "id": "aNg5xH7mkorj"
      },
      "outputs": [],
      "source": [
        "X_train = X_train / 255.\n",
        "X_test = X_test/ 255."
      ]
    },
    {
      "cell_type": "markdown",
      "metadata": {
        "id": "N4uYBc5RHK2k"
      },
      "source": [
        "CNN Model"
      ]
    },
    {
      "cell_type": "code",
      "execution_count": 22,
      "metadata": {
        "colab": {
          "base_uri": "https://localhost:8080/"
        },
        "id": "fOH060y6kqdY",
        "outputId": "a300acdd-20d9-4cd4-83fe-52bec0264ec9"
      },
      "outputs": [
        {
          "output_type": "stream",
          "name": "stdout",
          "text": [
            "Model: \"sequential\"\n",
            "_________________________________________________________________\n",
            " Layer (type)                Output Shape              Param #   \n",
            "=================================================================\n",
            " conv2d (Conv2D)             (None, 48, 48, 16)        448       \n",
            "                                                                 \n",
            " max_pooling2d (MaxPooling2D  (None, 24, 24, 16)       0         \n",
            " )                                                               \n",
            "                                                                 \n",
            " conv2d_1 (Conv2D)           (None, 22, 22, 32)        4640      \n",
            "                                                                 \n",
            " max_pooling2d_1 (MaxPooling  (None, 11, 11, 32)       0         \n",
            " 2D)                                                             \n",
            "                                                                 \n",
            " conv2d_2 (Conv2D)           (None, 9, 9, 64)          18496     \n",
            "                                                                 \n",
            " max_pooling2d_2 (MaxPooling  (None, 4, 4, 64)         0         \n",
            " 2D)                                                             \n",
            "                                                                 \n",
            " conv2d_3 (Conv2D)           (None, 2, 2, 128)         73856     \n",
            "                                                                 \n",
            " max_pooling2d_3 (MaxPooling  (None, 1, 1, 128)        0         \n",
            " 2D)                                                             \n",
            "                                                                 \n",
            " flatten (Flatten)           (None, 128)               0         \n",
            "                                                                 \n",
            " dense (Dense)               (None, 512)               66048     \n",
            "                                                                 \n",
            " dropout (Dropout)           (None, 512)               0         \n",
            "                                                                 \n",
            " dense_1 (Dense)             (None, 85)                43605     \n",
            "                                                                 \n",
            "=================================================================\n",
            "Total params: 207,093\n",
            "Trainable params: 207,093\n",
            "Non-trainable params: 0\n",
            "_________________________________________________________________\n"
          ]
        }
      ],
      "source": [
        "model = Sequential()\n",
        "model.add(Conv2D(16, kernel_size=(3,3), activation = 'relu', input_shape=(50,50,3) ))\n",
        "model.add(MaxPooling2D(pool_size = (2, 2)))\n",
        "\n",
        "model.add(Conv2D(32, kernel_size = (3, 3), activation = 'relu'))\n",
        "model.add(MaxPooling2D(pool_size = (2, 2)))\n",
        "\n",
        "model.add(Conv2D(64, kernel_size = (3, 3), activation = 'relu'))\n",
        "model.add(MaxPooling2D(pool_size = (2, 2)))\n",
        "\n",
        "model.add(Conv2D(128, kernel_size = (3, 3), activation = 'relu'))\n",
        "model.add(MaxPooling2D(pool_size = (2, 2)))\n",
        "\n",
        "model.add(Flatten())\n",
        "model.add(Dense(512, activation = 'relu'))\n",
        "model.add(Dropout(0.20))\n",
        "model.add(Dense(y.shape[1], activation = 'softmax'))\n",
        "\n",
        "model.summary()"
      ]
    },
    {
      "cell_type": "code",
      "execution_count": 23,
      "metadata": {
        "colab": {
          "base_uri": "https://localhost:8080/"
        },
        "id": "dKrxfjeAlAo9",
        "outputId": "794609be-6f5c-44dc-8348-7fa297ff9580"
      },
      "outputs": [
        {
          "output_type": "execute_result",
          "data": {
            "text/plain": [
              "(18450, 85)"
            ]
          },
          "metadata": {},
          "execution_count": 23
        }
      ],
      "source": [
        "y.shape"
      ]
    },
    {
      "cell_type": "code",
      "execution_count": 24,
      "metadata": {
        "colab": {
          "base_uri": "https://localhost:8080/"
        },
        "id": "-86Usg-WlD_l",
        "outputId": "74817f3d-7d7f-41ca-d1c5-feb8ca39f4e3"
      },
      "outputs": [
        {
          "output_type": "execute_result",
          "data": {
            "text/plain": [
              "array([0., 1.], dtype=float32)"
            ]
          },
          "metadata": {},
          "execution_count": 24
        }
      ],
      "source": [
        "np.unique(y)"
      ]
    },
    {
      "cell_type": "code",
      "execution_count": 25,
      "metadata": {
        "id": "DXvQO8EOeGHH"
      },
      "outputs": [],
      "source": [
        "model.compile(optimizer='Adam', metrics=['accuracy'], loss='categorical_crossentropy')"
      ]
    },
    {
      "cell_type": "markdown",
      "metadata": {
        "id": "j79Ed9nNHK2l"
      },
      "source": [
        "Fitting the Model"
      ]
    },
    {
      "cell_type": "code",
      "execution_count": 28,
      "metadata": {
        "colab": {
          "base_uri": "https://localhost:8080/"
        },
        "id": "kwuqv0HbfAPf",
        "outputId": "e915e038-7daf-4159-f051-8b169dc391e5"
      },
      "outputs": [
        {
          "output_type": "stream",
          "name": "stdout",
          "text": [
            "Epoch 1/200\n",
            "107/107 [==============================] - 1s 10ms/step - loss: 6.2208e-06 - accuracy: 1.0000\n",
            "Epoch 2/200\n",
            "107/107 [==============================] - 1s 9ms/step - loss: 4.9304e-06 - accuracy: 1.0000\n",
            "Epoch 3/200\n",
            "107/107 [==============================] - 1s 9ms/step - loss: 1.1669e-04 - accuracy: 1.0000\n",
            "Epoch 4/200\n",
            "107/107 [==============================] - 1s 9ms/step - loss: 5.9425e-05 - accuracy: 1.0000\n",
            "Epoch 5/200\n",
            "107/107 [==============================] - 1s 9ms/step - loss: 4.3093e-06 - accuracy: 1.0000\n",
            "Epoch 6/200\n",
            "107/107 [==============================] - 1s 10ms/step - loss: 7.3984e-06 - accuracy: 1.0000\n",
            "Epoch 7/200\n",
            "107/107 [==============================] - 1s 9ms/step - loss: 3.5451e-06 - accuracy: 1.0000\n",
            "Epoch 8/200\n",
            "107/107 [==============================] - 1s 9ms/step - loss: 4.7292e-06 - accuracy: 1.0000\n",
            "Epoch 9/200\n",
            "107/107 [==============================] - 1s 9ms/step - loss: 2.4825e-06 - accuracy: 1.0000\n",
            "Epoch 10/200\n",
            "107/107 [==============================] - 1s 9ms/step - loss: 2.5872e-05 - accuracy: 1.0000\n",
            "Epoch 11/200\n",
            "107/107 [==============================] - 1s 9ms/step - loss: 9.6275e-06 - accuracy: 1.0000\n",
            "Epoch 12/200\n",
            "107/107 [==============================] - 1s 9ms/step - loss: 1.5834e-05 - accuracy: 1.0000\n",
            "Epoch 13/200\n",
            "107/107 [==============================] - 1s 11ms/step - loss: 5.3156e-06 - accuracy: 1.0000\n",
            "Epoch 14/200\n",
            "107/107 [==============================] - 1s 12ms/step - loss: 2.3032e-06 - accuracy: 1.0000\n",
            "Epoch 15/200\n",
            "107/107 [==============================] - 1s 12ms/step - loss: 4.3795e-06 - accuracy: 1.0000\n",
            "Epoch 16/200\n",
            "107/107 [==============================] - 1s 12ms/step - loss: 1.2899e-06 - accuracy: 1.0000\n",
            "Epoch 17/200\n",
            "107/107 [==============================] - 1s 11ms/step - loss: 2.7188e-06 - accuracy: 1.0000\n",
            "Epoch 18/200\n",
            "107/107 [==============================] - 1s 13ms/step - loss: 1.2283e-06 - accuracy: 1.0000\n",
            "Epoch 19/200\n",
            "107/107 [==============================] - 1s 13ms/step - loss: 2.6684e-06 - accuracy: 1.0000\n",
            "Epoch 20/200\n",
            "107/107 [==============================] - 1s 12ms/step - loss: 1.1267e-06 - accuracy: 1.0000\n",
            "Epoch 21/200\n",
            "107/107 [==============================] - 1s 12ms/step - loss: 7.3643e-07 - accuracy: 1.0000\n",
            "Epoch 22/200\n",
            "107/107 [==============================] - 1s 13ms/step - loss: 7.0005e-07 - accuracy: 1.0000\n",
            "Epoch 23/200\n",
            "107/107 [==============================] - 1s 14ms/step - loss: 5.2271e-07 - accuracy: 1.0000\n",
            "Epoch 24/200\n",
            "107/107 [==============================] - 1s 10ms/step - loss: 5.7117e-07 - accuracy: 1.0000\n",
            "Epoch 25/200\n",
            "107/107 [==============================] - 1s 9ms/step - loss: 7.5278e-07 - accuracy: 1.0000\n",
            "Epoch 26/200\n",
            "107/107 [==============================] - 1s 9ms/step - loss: 4.8597e-07 - accuracy: 1.0000\n",
            "Epoch 27/200\n",
            "107/107 [==============================] - 1s 9ms/step - loss: 5.9293e-07 - accuracy: 1.0000\n",
            "Epoch 28/200\n",
            "107/107 [==============================] - 1s 9ms/step - loss: 5.4320e-07 - accuracy: 1.0000\n",
            "Epoch 29/200\n",
            "107/107 [==============================] - 1s 9ms/step - loss: 9.5979e-07 - accuracy: 1.0000\n",
            "Epoch 30/200\n",
            "107/107 [==============================] - 1s 9ms/step - loss: 6.8073e-07 - accuracy: 1.0000\n",
            "Epoch 31/200\n",
            "107/107 [==============================] - 1s 9ms/step - loss: 1.0365e-06 - accuracy: 1.0000\n",
            "Epoch 32/200\n",
            "107/107 [==============================] - 1s 9ms/step - loss: 4.8902e-07 - accuracy: 1.0000\n",
            "Epoch 33/200\n",
            "107/107 [==============================] - 1s 9ms/step - loss: 1.0502e-06 - accuracy: 1.0000\n",
            "Epoch 34/200\n",
            "107/107 [==============================] - 1s 9ms/step - loss: 4.0443e-07 - accuracy: 1.0000\n",
            "Epoch 35/200\n",
            "107/107 [==============================] - 1s 9ms/step - loss: 4.4204e-07 - accuracy: 1.0000\n",
            "Epoch 36/200\n",
            "107/107 [==============================] - 1s 9ms/step - loss: 1.5641e-06 - accuracy: 1.0000\n",
            "Epoch 37/200\n",
            "107/107 [==============================] - 1s 9ms/step - loss: 3.6003e-07 - accuracy: 1.0000\n",
            "Epoch 38/200\n",
            "107/107 [==============================] - 1s 9ms/step - loss: 1.3584e-06 - accuracy: 1.0000\n",
            "Epoch 39/200\n",
            "107/107 [==============================] - 1s 9ms/step - loss: 5.7259e-07 - accuracy: 1.0000\n",
            "Epoch 40/200\n",
            "107/107 [==============================] - 1s 9ms/step - loss: 1.5687e-06 - accuracy: 1.0000\n",
            "Epoch 41/200\n",
            "107/107 [==============================] - 1s 9ms/step - loss: 2.7943e-07 - accuracy: 1.0000\n",
            "Epoch 42/200\n",
            "107/107 [==============================] - 1s 9ms/step - loss: 2.6372e-07 - accuracy: 1.0000\n",
            "Epoch 43/200\n",
            "107/107 [==============================] - 1s 9ms/step - loss: 1.6476e-07 - accuracy: 1.0000\n",
            "Epoch 44/200\n",
            "107/107 [==============================] - 1s 9ms/step - loss: 1.9831e-07 - accuracy: 1.0000\n",
            "Epoch 45/200\n",
            "107/107 [==============================] - 1s 9ms/step - loss: 3.3129e-07 - accuracy: 1.0000\n",
            "Epoch 46/200\n",
            "107/107 [==============================] - 1s 9ms/step - loss: 1.5520e-07 - accuracy: 1.0000\n",
            "Epoch 47/200\n",
            "107/107 [==============================] - 1s 9ms/step - loss: 2.8952e-07 - accuracy: 1.0000\n",
            "Epoch 48/200\n",
            "107/107 [==============================] - 1s 9ms/step - loss: 2.8131e-07 - accuracy: 1.0000\n",
            "Epoch 49/200\n",
            "107/107 [==============================] - 1s 9ms/step - loss: 2.2917e-07 - accuracy: 1.0000\n",
            "Epoch 50/200\n",
            "107/107 [==============================] - 1s 9ms/step - loss: 1.8153e-07 - accuracy: 1.0000\n",
            "Epoch 51/200\n",
            "107/107 [==============================] - 1s 9ms/step - loss: 2.5612e-07 - accuracy: 1.0000\n",
            "Epoch 52/200\n",
            "107/107 [==============================] - 1s 9ms/step - loss: 1.2485e-07 - accuracy: 1.0000\n",
            "Epoch 53/200\n",
            "107/107 [==============================] - 1s 9ms/step - loss: 3.2734e-07 - accuracy: 1.0000\n",
            "Epoch 54/200\n",
            "107/107 [==============================] - 1s 9ms/step - loss: 1.1876e-07 - accuracy: 1.0000\n",
            "Epoch 55/200\n",
            "107/107 [==============================] - 1s 9ms/step - loss: 1.3407e-07 - accuracy: 1.0000\n",
            "Epoch 56/200\n",
            "107/107 [==============================] - 1s 9ms/step - loss: 5.9256e-08 - accuracy: 1.0000\n",
            "Epoch 57/200\n",
            "107/107 [==============================] - 1s 9ms/step - loss: 7.8994e-08 - accuracy: 1.0000\n",
            "Epoch 58/200\n",
            "107/107 [==============================] - 1s 9ms/step - loss: 2.7161e-07 - accuracy: 1.0000\n",
            "Epoch 59/200\n",
            "107/107 [==============================] - 1s 9ms/step - loss: 1.0556e-07 - accuracy: 1.0000\n",
            "Epoch 60/200\n",
            "107/107 [==============================] - 1s 8ms/step - loss: 1.2428e-06 - accuracy: 1.0000\n",
            "Epoch 61/200\n",
            "107/107 [==============================] - 1s 9ms/step - loss: 0.0318 - accuracy: 0.9919\n",
            "Epoch 62/200\n",
            "107/107 [==============================] - 1s 9ms/step - loss: 0.0055 - accuracy: 0.9987\n",
            "Epoch 63/200\n",
            "107/107 [==============================] - 1s 9ms/step - loss: 3.2511e-04 - accuracy: 0.9999\n",
            "Epoch 64/200\n",
            "107/107 [==============================] - 1s 9ms/step - loss: 6.9161e-05 - accuracy: 1.0000\n",
            "Epoch 65/200\n",
            "107/107 [==============================] - 1s 9ms/step - loss: 9.2031e-05 - accuracy: 0.9999\n",
            "Epoch 66/200\n",
            "107/107 [==============================] - 1s 9ms/step - loss: 8.6361e-05 - accuracy: 1.0000\n",
            "Epoch 67/200\n",
            "107/107 [==============================] - 1s 9ms/step - loss: 1.2916e-05 - accuracy: 1.0000\n",
            "Epoch 68/200\n",
            "107/107 [==============================] - 1s 9ms/step - loss: 5.2004e-06 - accuracy: 1.0000\n",
            "Epoch 69/200\n",
            "107/107 [==============================] - 1s 9ms/step - loss: 6.2634e-06 - accuracy: 1.0000\n",
            "Epoch 70/200\n",
            "107/107 [==============================] - 1s 9ms/step - loss: 4.2767e-06 - accuracy: 1.0000\n",
            "Epoch 71/200\n",
            "107/107 [==============================] - 1s 9ms/step - loss: 2.0757e-06 - accuracy: 1.0000\n",
            "Epoch 72/200\n",
            "107/107 [==============================] - 1s 9ms/step - loss: 2.6441e-06 - accuracy: 1.0000\n",
            "Epoch 73/200\n",
            "107/107 [==============================] - 1s 9ms/step - loss: 1.5322e-06 - accuracy: 1.0000\n",
            "Epoch 74/200\n",
            "107/107 [==============================] - 1s 9ms/step - loss: 1.4957e-06 - accuracy: 1.0000\n",
            "Epoch 75/200\n",
            "107/107 [==============================] - 1s 9ms/step - loss: 3.8366e-06 - accuracy: 1.0000\n",
            "Epoch 76/200\n",
            "107/107 [==============================] - 1s 9ms/step - loss: 7.8490e-07 - accuracy: 1.0000\n",
            "Epoch 77/200\n",
            "107/107 [==============================] - 1s 9ms/step - loss: 2.5993e-06 - accuracy: 1.0000\n",
            "Epoch 78/200\n",
            "107/107 [==============================] - 1s 9ms/step - loss: 1.6288e-06 - accuracy: 1.0000\n",
            "Epoch 79/200\n",
            "107/107 [==============================] - 1s 9ms/step - loss: 8.3308e-07 - accuracy: 1.0000\n",
            "Epoch 80/200\n",
            "107/107 [==============================] - 1s 9ms/step - loss: 4.9445e-06 - accuracy: 1.0000\n",
            "Epoch 81/200\n",
            "107/107 [==============================] - 1s 9ms/step - loss: 6.3596e-07 - accuracy: 1.0000\n",
            "Epoch 82/200\n",
            "107/107 [==============================] - 1s 9ms/step - loss: 9.5563e-07 - accuracy: 1.0000\n",
            "Epoch 83/200\n",
            "107/107 [==============================] - 1s 9ms/step - loss: 5.0495e-07 - accuracy: 1.0000\n",
            "Epoch 84/200\n",
            "107/107 [==============================] - 1s 9ms/step - loss: 4.9311e-07 - accuracy: 1.0000\n",
            "Epoch 85/200\n",
            "107/107 [==============================] - 1s 9ms/step - loss: 1.4382e-06 - accuracy: 1.0000\n",
            "Epoch 86/200\n",
            "107/107 [==============================] - 1s 9ms/step - loss: 4.0609e-07 - accuracy: 1.0000\n",
            "Epoch 87/200\n",
            "107/107 [==============================] - 1s 9ms/step - loss: 5.0499e-07 - accuracy: 1.0000\n",
            "Epoch 88/200\n",
            "107/107 [==============================] - 1s 9ms/step - loss: 2.3041e-06 - accuracy: 1.0000\n",
            "Epoch 89/200\n",
            "107/107 [==============================] - 1s 9ms/step - loss: 3.2134e-07 - accuracy: 1.0000\n",
            "Epoch 90/200\n",
            "107/107 [==============================] - 1s 9ms/step - loss: 1.2194e-06 - accuracy: 1.0000\n",
            "Epoch 91/200\n",
            "107/107 [==============================] - 1s 9ms/step - loss: 1.1564e-06 - accuracy: 1.0000\n",
            "Epoch 92/200\n",
            "107/107 [==============================] - 1s 9ms/step - loss: 6.1186e-07 - accuracy: 1.0000\n",
            "Epoch 93/200\n",
            "107/107 [==============================] - 1s 9ms/step - loss: 5.9693e-07 - accuracy: 1.0000\n",
            "Epoch 94/200\n",
            "107/107 [==============================] - 1s 9ms/step - loss: 6.3858e-07 - accuracy: 1.0000\n",
            "Epoch 95/200\n",
            "107/107 [==============================] - 1s 9ms/step - loss: 0.0010 - accuracy: 0.9997\n",
            "Epoch 96/200\n",
            "107/107 [==============================] - 1s 9ms/step - loss: 0.0186 - accuracy: 0.9960\n",
            "Epoch 97/200\n",
            "107/107 [==============================] - 1s 9ms/step - loss: 0.0028 - accuracy: 0.9994\n",
            "Epoch 98/200\n",
            "107/107 [==============================] - 1s 9ms/step - loss: 4.9663e-05 - accuracy: 1.0000\n",
            "Epoch 99/200\n",
            "107/107 [==============================] - 1s 9ms/step - loss: 8.3961e-06 - accuracy: 1.0000\n",
            "Epoch 100/200\n",
            "107/107 [==============================] - 1s 9ms/step - loss: 5.8923e-05 - accuracy: 1.0000\n",
            "Epoch 101/200\n",
            "107/107 [==============================] - 1s 9ms/step - loss: 1.2167e-05 - accuracy: 1.0000\n",
            "Epoch 102/200\n",
            "107/107 [==============================] - 1s 9ms/step - loss: 9.4914e-06 - accuracy: 1.0000\n",
            "Epoch 103/200\n",
            "107/107 [==============================] - 1s 9ms/step - loss: 3.3007e-06 - accuracy: 1.0000\n",
            "Epoch 104/200\n",
            "107/107 [==============================] - 1s 9ms/step - loss: 3.3907e-06 - accuracy: 1.0000\n",
            "Epoch 105/200\n",
            "107/107 [==============================] - 1s 9ms/step - loss: 1.6732e-06 - accuracy: 1.0000\n",
            "Epoch 106/200\n",
            "107/107 [==============================] - 1s 9ms/step - loss: 7.7822e-05 - accuracy: 1.0000\n",
            "Epoch 107/200\n",
            "107/107 [==============================] - 1s 9ms/step - loss: 8.9051e-06 - accuracy: 1.0000\n",
            "Epoch 108/200\n",
            "107/107 [==============================] - 1s 9ms/step - loss: 0.0040 - accuracy: 0.9988\n",
            "Epoch 109/200\n",
            "107/107 [==============================] - 1s 10ms/step - loss: 0.0012 - accuracy: 0.9996\n",
            "Epoch 110/200\n",
            "107/107 [==============================] - 1s 11ms/step - loss: 0.0014 - accuracy: 0.9998\n",
            "Epoch 111/200\n",
            "107/107 [==============================] - 1s 10ms/step - loss: 0.0043 - accuracy: 0.9992\n",
            "Epoch 112/200\n",
            "107/107 [==============================] - 1s 9ms/step - loss: 0.0053 - accuracy: 0.9991\n",
            "Epoch 113/200\n",
            "107/107 [==============================] - 1s 9ms/step - loss: 0.0010 - accuracy: 0.9996\n",
            "Epoch 114/200\n",
            "107/107 [==============================] - 1s 9ms/step - loss: 9.3141e-06 - accuracy: 1.0000\n",
            "Epoch 115/200\n",
            "107/107 [==============================] - 1s 9ms/step - loss: 1.4571e-05 - accuracy: 1.0000\n",
            "Epoch 116/200\n",
            "107/107 [==============================] - 1s 9ms/step - loss: 4.8111e-06 - accuracy: 1.0000\n",
            "Epoch 117/200\n",
            "107/107 [==============================] - 1s 9ms/step - loss: 4.8926e-06 - accuracy: 1.0000\n",
            "Epoch 118/200\n",
            "107/107 [==============================] - 1s 9ms/step - loss: 2.6913e-06 - accuracy: 1.0000\n",
            "Epoch 119/200\n",
            "107/107 [==============================] - 1s 9ms/step - loss: 5.4970e-06 - accuracy: 1.0000\n",
            "Epoch 120/200\n",
            "107/107 [==============================] - 1s 9ms/step - loss: 2.3702e-06 - accuracy: 1.0000\n",
            "Epoch 121/200\n",
            "107/107 [==============================] - 1s 9ms/step - loss: 2.9276e-06 - accuracy: 1.0000\n",
            "Epoch 122/200\n",
            "107/107 [==============================] - 1s 9ms/step - loss: 1.2513e-06 - accuracy: 1.0000\n",
            "Epoch 123/200\n",
            "107/107 [==============================] - 1s 9ms/step - loss: 1.2656e-06 - accuracy: 1.0000\n",
            "Epoch 124/200\n",
            "107/107 [==============================] - 1s 9ms/step - loss: 6.4148e-06 - accuracy: 1.0000\n",
            "Epoch 125/200\n",
            "107/107 [==============================] - 1s 9ms/step - loss: 4.6339e-06 - accuracy: 1.0000\n",
            "Epoch 126/200\n",
            "107/107 [==============================] - 1s 9ms/step - loss: 1.4107e-06 - accuracy: 1.0000\n",
            "Epoch 127/200\n",
            "107/107 [==============================] - 1s 9ms/step - loss: 1.1401e-06 - accuracy: 1.0000\n",
            "Epoch 128/200\n",
            "107/107 [==============================] - 1s 9ms/step - loss: 1.7981e-06 - accuracy: 1.0000\n",
            "Epoch 129/200\n",
            "107/107 [==============================] - 1s 9ms/step - loss: 7.9397e-07 - accuracy: 1.0000\n",
            "Epoch 130/200\n",
            "107/107 [==============================] - 1s 9ms/step - loss: 1.1918e-06 - accuracy: 1.0000\n",
            "Epoch 131/200\n",
            "107/107 [==============================] - 1s 9ms/step - loss: 6.8187e-07 - accuracy: 1.0000\n",
            "Epoch 132/200\n",
            "107/107 [==============================] - 1s 9ms/step - loss: 6.8817e-07 - accuracy: 1.0000\n",
            "Epoch 133/200\n",
            "107/107 [==============================] - 1s 9ms/step - loss: 8.0973e-07 - accuracy: 1.0000\n",
            "Epoch 134/200\n",
            "107/107 [==============================] - 1s 9ms/step - loss: 5.6660e-07 - accuracy: 1.0000\n",
            "Epoch 135/200\n",
            "107/107 [==============================] - 1s 9ms/step - loss: 1.3732e-06 - accuracy: 1.0000\n",
            "Epoch 136/200\n",
            "107/107 [==============================] - 1s 9ms/step - loss: 5.7691e-06 - accuracy: 1.0000\n",
            "Epoch 137/200\n",
            "107/107 [==============================] - 1s 9ms/step - loss: 0.0080 - accuracy: 0.9978\n",
            "Epoch 138/200\n",
            "107/107 [==============================] - 1s 9ms/step - loss: 0.0050 - accuracy: 0.9990\n",
            "Epoch 139/200\n",
            "107/107 [==============================] - 1s 9ms/step - loss: 0.0020 - accuracy: 0.9995\n",
            "Epoch 140/200\n",
            "107/107 [==============================] - 1s 9ms/step - loss: 9.6195e-04 - accuracy: 0.9998\n",
            "Epoch 141/200\n",
            "107/107 [==============================] - 1s 9ms/step - loss: 3.7887e-05 - accuracy: 1.0000\n",
            "Epoch 142/200\n",
            "107/107 [==============================] - 1s 9ms/step - loss: 5.5144e-06 - accuracy: 1.0000\n",
            "Epoch 143/200\n",
            "107/107 [==============================] - 1s 9ms/step - loss: 5.0879e-06 - accuracy: 1.0000\n",
            "Epoch 144/200\n",
            "107/107 [==============================] - 1s 9ms/step - loss: 7.6101e-05 - accuracy: 0.9999\n",
            "Epoch 145/200\n",
            "107/107 [==============================] - 1s 9ms/step - loss: 1.9730e-04 - accuracy: 0.9999\n",
            "Epoch 146/200\n",
            "107/107 [==============================] - 1s 9ms/step - loss: 9.1335e-04 - accuracy: 0.9997\n",
            "Epoch 147/200\n",
            "107/107 [==============================] - 1s 9ms/step - loss: 5.3710e-06 - accuracy: 1.0000\n",
            "Epoch 148/200\n",
            "107/107 [==============================] - 1s 9ms/step - loss: 1.7636e-05 - accuracy: 1.0000\n",
            "Epoch 149/200\n",
            "107/107 [==============================] - 1s 9ms/step - loss: 2.4783e-06 - accuracy: 1.0000\n",
            "Epoch 150/200\n",
            "107/107 [==============================] - 1s 9ms/step - loss: 6.4752e-05 - accuracy: 0.9999\n",
            "Epoch 151/200\n",
            "107/107 [==============================] - 1s 9ms/step - loss: 1.4373e-04 - accuracy: 0.9999\n",
            "Epoch 152/200\n",
            "107/107 [==============================] - 1s 9ms/step - loss: 9.6558e-06 - accuracy: 1.0000\n",
            "Epoch 153/200\n",
            "107/107 [==============================] - 1s 9ms/step - loss: 1.6032e-06 - accuracy: 1.0000\n",
            "Epoch 154/200\n",
            "107/107 [==============================] - 1s 9ms/step - loss: 5.5278e-06 - accuracy: 1.0000\n",
            "Epoch 155/200\n",
            "107/107 [==============================] - 1s 9ms/step - loss: 1.5653e-06 - accuracy: 1.0000\n",
            "Epoch 156/200\n",
            "107/107 [==============================] - 1s 9ms/step - loss: 1.9057e-06 - accuracy: 1.0000\n",
            "Epoch 157/200\n",
            "107/107 [==============================] - 1s 9ms/step - loss: 5.8776e-06 - accuracy: 1.0000\n",
            "Epoch 158/200\n",
            "107/107 [==============================] - 1s 9ms/step - loss: 1.2447e-06 - accuracy: 1.0000\n",
            "Epoch 159/200\n",
            "107/107 [==============================] - 1s 9ms/step - loss: 3.1924e-07 - accuracy: 1.0000\n",
            "Epoch 160/200\n",
            "107/107 [==============================] - 1s 9ms/step - loss: 2.2830e-05 - accuracy: 1.0000\n",
            "Epoch 161/200\n",
            "107/107 [==============================] - 1s 9ms/step - loss: 5.1116e-07 - accuracy: 1.0000\n",
            "Epoch 162/200\n",
            "107/107 [==============================] - 1s 9ms/step - loss: 2.5963e-06 - accuracy: 1.0000\n",
            "Epoch 163/200\n",
            "107/107 [==============================] - 1s 9ms/step - loss: 6.9291e-07 - accuracy: 1.0000\n",
            "Epoch 164/200\n",
            "107/107 [==============================] - 1s 9ms/step - loss: 4.0712e-07 - accuracy: 1.0000\n",
            "Epoch 165/200\n",
            "107/107 [==============================] - 1s 9ms/step - loss: 5.6432e-07 - accuracy: 1.0000\n",
            "Epoch 166/200\n",
            "107/107 [==============================] - 1s 9ms/step - loss: 3.7646e-07 - accuracy: 1.0000\n",
            "Epoch 167/200\n",
            "107/107 [==============================] - 1s 9ms/step - loss: 2.5193e-07 - accuracy: 1.0000\n",
            "Epoch 168/200\n",
            "107/107 [==============================] - 1s 9ms/step - loss: 2.5406e-07 - accuracy: 1.0000\n",
            "Epoch 169/200\n",
            "107/107 [==============================] - 1s 9ms/step - loss: 2.1619e-06 - accuracy: 1.0000\n",
            "Epoch 170/200\n",
            "107/107 [==============================] - 1s 9ms/step - loss: 2.4154e-06 - accuracy: 1.0000\n",
            "Epoch 171/200\n",
            "107/107 [==============================] - 1s 9ms/step - loss: 2.4413e-07 - accuracy: 1.0000\n",
            "Epoch 172/200\n",
            "107/107 [==============================] - 1s 9ms/step - loss: 1.5489e-05 - accuracy: 1.0000\n",
            "Epoch 173/200\n",
            "107/107 [==============================] - 1s 9ms/step - loss: 0.0159 - accuracy: 0.9961\n",
            "Epoch 174/200\n",
            "107/107 [==============================] - 1s 9ms/step - loss: 0.0107 - accuracy: 0.9984\n",
            "Epoch 175/200\n",
            "107/107 [==============================] - 1s 9ms/step - loss: 8.6213e-05 - accuracy: 1.0000\n",
            "Epoch 176/200\n",
            "107/107 [==============================] - 1s 9ms/step - loss: 1.7978e-05 - accuracy: 1.0000\n",
            "Epoch 177/200\n",
            "107/107 [==============================] - 1s 9ms/step - loss: 6.7806e-06 - accuracy: 1.0000\n",
            "Epoch 178/200\n",
            "107/107 [==============================] - 1s 9ms/step - loss: 3.9413e-06 - accuracy: 1.0000\n",
            "Epoch 179/200\n",
            "107/107 [==============================] - 1s 9ms/step - loss: 1.8212e-06 - accuracy: 1.0000\n",
            "Epoch 180/200\n",
            "107/107 [==============================] - 1s 9ms/step - loss: 1.7528e-06 - accuracy: 1.0000\n",
            "Epoch 181/200\n",
            "107/107 [==============================] - 1s 9ms/step - loss: 3.0597e-06 - accuracy: 1.0000\n",
            "Epoch 182/200\n",
            "107/107 [==============================] - 1s 9ms/step - loss: 2.3651e-06 - accuracy: 1.0000\n",
            "Epoch 183/200\n",
            "107/107 [==============================] - 1s 9ms/step - loss: 2.7966e-06 - accuracy: 1.0000\n",
            "Epoch 184/200\n",
            "107/107 [==============================] - 1s 9ms/step - loss: 1.2550e-06 - accuracy: 1.0000\n",
            "Epoch 185/200\n",
            "107/107 [==============================] - 1s 9ms/step - loss: 7.5364e-06 - accuracy: 1.0000\n",
            "Epoch 186/200\n",
            "107/107 [==============================] - 1s 9ms/step - loss: 2.9461e-06 - accuracy: 1.0000\n",
            "Epoch 187/200\n",
            "107/107 [==============================] - 1s 9ms/step - loss: 8.7417e-07 - accuracy: 1.0000\n",
            "Epoch 188/200\n",
            "107/107 [==============================] - 1s 9ms/step - loss: 7.7182e-07 - accuracy: 1.0000\n",
            "Epoch 189/200\n",
            "107/107 [==============================] - 1s 9ms/step - loss: 1.4275e-06 - accuracy: 1.0000\n",
            "Epoch 190/200\n",
            "107/107 [==============================] - 1s 9ms/step - loss: 1.3729e-06 - accuracy: 1.0000\n",
            "Epoch 191/200\n",
            "107/107 [==============================] - 1s 9ms/step - loss: 1.6043e-06 - accuracy: 1.0000\n",
            "Epoch 192/200\n",
            "107/107 [==============================] - 1s 9ms/step - loss: 5.1977e-07 - accuracy: 1.0000\n",
            "Epoch 193/200\n",
            "107/107 [==============================] - 1s 9ms/step - loss: 4.0687e-07 - accuracy: 1.0000\n",
            "Epoch 194/200\n",
            "107/107 [==============================] - 1s 9ms/step - loss: 1.1654e-06 - accuracy: 1.0000\n",
            "Epoch 195/200\n",
            "107/107 [==============================] - 1s 9ms/step - loss: 3.8309e-07 - accuracy: 1.0000\n",
            "Epoch 196/200\n",
            "107/107 [==============================] - 1s 9ms/step - loss: 3.2129e-07 - accuracy: 1.0000\n",
            "Epoch 197/200\n",
            "107/107 [==============================] - 1s 9ms/step - loss: 4.6632e-07 - accuracy: 1.0000\n",
            "Epoch 198/200\n",
            "107/107 [==============================] - 1s 9ms/step - loss: 4.3518e-07 - accuracy: 1.0000\n",
            "Epoch 199/200\n",
            "107/107 [==============================] - 1s 9ms/step - loss: 1.0297e-06 - accuracy: 1.0000\n",
            "Epoch 200/200\n",
            "107/107 [==============================] - 1s 9ms/step - loss: 8.0658e-06 - accuracy: 1.0000\n"
          ]
        }
      ],
      "source": [
        "fit = model.fit(X_train, Y_train, batch_size=138, epochs=200)"
      ]
    },
    {
      "cell_type": "code",
      "execution_count": 29,
      "metadata": {
        "colab": {
          "base_uri": "https://localhost:8080/"
        },
        "id": "lpJTvL0VfISG",
        "outputId": "60292ad5-e514-44c0-d87a-c697464ebed2"
      },
      "outputs": [
        {
          "output_type": "stream",
          "name": "stdout",
          "text": [
            "116/116 [==============================] - 0s 3ms/step\n"
          ]
        }
      ],
      "source": [
        "y_pred = model.predict(X_test)"
      ]
    },
    {
      "cell_type": "code",
      "execution_count": 30,
      "metadata": {
        "colab": {
          "base_uri": "https://localhost:8080/"
        },
        "id": "t_xFqFIEfvU5",
        "outputId": "9b74aca1-26bb-4392-8e93-4d9e62d2f529"
      },
      "outputs": [
        {
          "output_type": "execute_result",
          "data": {
            "text/plain": [
              "99.97289972899729"
            ]
          },
          "metadata": {},
          "execution_count": 30
        }
      ],
      "source": [
        "from sklearn.metrics import accuracy_score\n",
        "accuracy_score(Y_test, y_pred.round())*100"
      ]
    },
    {
      "cell_type": "code",
      "execution_count": 31,
      "metadata": {
        "id": "z9n5v_Qxfvqd"
      },
      "outputs": [],
      "source": [
        "from sklearn.metrics import classification_report, confusion_matrix"
      ]
    },
    {
      "cell_type": "code",
      "execution_count": 32,
      "metadata": {
        "colab": {
          "base_uri": "https://localhost:8080/"
        },
        "id": "wuK0kBkIf1Wb",
        "outputId": "1256e813-8585-4da6-b67c-cf607fdb04b1"
      },
      "outputs": [
        {
          "output_type": "stream",
          "name": "stdout",
          "text": [
            "              precision    recall  f1-score   support\n",
            "\n",
            "           0       1.00      1.00      1.00        55\n",
            "           1       1.00      1.00      1.00        80\n",
            "           2       1.00      1.00      1.00        64\n",
            "           3       1.00      1.00      1.00        64\n",
            "           4       1.00      1.00      1.00        54\n",
            "           5       1.00      1.00      1.00        63\n",
            "           6       1.00      1.00      1.00        50\n",
            "           7       1.00      1.00      1.00        59\n",
            "           8       1.00      1.00      1.00        72\n",
            "           9       1.00      1.00      1.00        57\n",
            "          10       0.00      0.00      0.00         0\n",
            "          11       0.00      0.00      0.00         0\n",
            "          12       0.00      0.00      0.00         0\n",
            "          13       0.00      0.00      0.00         0\n",
            "          14       0.00      0.00      0.00         0\n",
            "          15       0.00      0.00      0.00         0\n",
            "          16       0.00      0.00      0.00         0\n",
            "          17       0.00      0.00      0.00         0\n",
            "          18       0.00      0.00      0.00         0\n",
            "          19       0.00      0.00      0.00         0\n",
            "          20       0.00      0.00      0.00         0\n",
            "          21       0.00      0.00      0.00         0\n",
            "          22       0.00      0.00      0.00         0\n",
            "          23       0.00      0.00      0.00         0\n",
            "          24       0.00      0.00      0.00         0\n",
            "          25       0.00      0.00      0.00         0\n",
            "          26       0.00      0.00      0.00         0\n",
            "          27       0.00      0.00      0.00         0\n",
            "          28       0.00      0.00      0.00         0\n",
            "          29       0.00      0.00      0.00         0\n",
            "          30       0.00      0.00      0.00         0\n",
            "          31       0.00      0.00      0.00         0\n",
            "          32       0.00      0.00      0.00         0\n",
            "          33       0.00      0.00      0.00         0\n",
            "          34       0.00      0.00      0.00         0\n",
            "          35       1.00      1.00      1.00        69\n",
            "          36       1.00      1.00      1.00        85\n",
            "          37       1.00      1.00      1.00        60\n",
            "          38       1.00      1.00      1.00        34\n",
            "          39       1.00      1.00      1.00        61\n",
            "          40       1.00      1.00      1.00        61\n",
            "          41       1.00      1.00      1.00        73\n",
            "          42       1.00      1.00      1.00        74\n",
            "          43       1.00      1.00      1.00        74\n",
            "          44       1.00      1.00      1.00        67\n",
            "          45       1.00      1.00      1.00        54\n",
            "          46       1.00      1.00      1.00        69\n",
            "          47       1.00      1.00      1.00        60\n",
            "          48       1.00      1.00      1.00        67\n",
            "          49       1.00      1.00      1.00        61\n",
            "          50       1.00      1.00      1.00        68\n",
            "          51       1.00      1.00      1.00        60\n",
            "          52       1.00      1.00      1.00        63\n",
            "          53       0.98      1.00      0.99        57\n",
            "          54       1.00      1.00      1.00        62\n",
            "          55       1.00      1.00      1.00        58\n",
            "          56       1.00      1.00      1.00        63\n",
            "          57       1.00      1.00      1.00        83\n",
            "          58       1.00      1.00      1.00        80\n",
            "          59       1.00      0.98      0.99        62\n",
            "          60       1.00      1.00      1.00        69\n",
            "          61       1.00      1.00      1.00        42\n",
            "          62       1.00      1.00      1.00        62\n",
            "          63       1.00      1.00      1.00        62\n",
            "          64       1.00      1.00      1.00        68\n",
            "          65       1.00      1.00      1.00        69\n",
            "          66       1.00      1.00      1.00        51\n",
            "          67       1.00      1.00      1.00        65\n",
            "          68       1.00      1.00      1.00        49\n",
            "          69       1.00      1.00      1.00        70\n",
            "          70       1.00      1.00      1.00        49\n",
            "          71       1.00      1.00      1.00        46\n",
            "          72       1.00      1.00      1.00        50\n",
            "          73       1.00      1.00      1.00        59\n",
            "          74       1.00      1.00      1.00        51\n",
            "          75       1.00      1.00      1.00        51\n",
            "          76       1.00      1.00      1.00        58\n",
            "          77       1.00      1.00      1.00        50\n",
            "          78       1.00      1.00      1.00        79\n",
            "          79       1.00      1.00      1.00        55\n",
            "          80       1.00      1.00      1.00        68\n",
            "          81       1.00      1.00      1.00        60\n",
            "          82       1.00      1.00      1.00        56\n",
            "          83       1.00      1.00      1.00        36\n",
            "          84       1.00      1.00      1.00        72\n",
            "\n",
            "   micro avg       1.00      1.00      1.00      3690\n",
            "   macro avg       0.71      0.71      0.71      3690\n",
            "weighted avg       1.00      1.00      1.00      3690\n",
            " samples avg       1.00      1.00      1.00      3690\n",
            "\n"
          ]
        },
        {
          "output_type": "stream",
          "name": "stderr",
          "text": [
            "/usr/local/lib/python3.8/dist-packages/sklearn/metrics/_classification.py:1318: UndefinedMetricWarning: Precision and F-score are ill-defined and being set to 0.0 in labels with no predicted samples. Use `zero_division` parameter to control this behavior.\n",
            "  _warn_prf(average, modifier, msg_start, len(result))\n",
            "/usr/local/lib/python3.8/dist-packages/sklearn/metrics/_classification.py:1318: UndefinedMetricWarning: Recall and F-score are ill-defined and being set to 0.0 in labels with no true samples. Use `zero_division` parameter to control this behavior.\n",
            "  _warn_prf(average, modifier, msg_start, len(result))\n"
          ]
        }
      ],
      "source": [
        "print(classification_report(y_pred.round(), Y_test))"
      ]
    },
    {
      "cell_type": "code",
      "execution_count": 37,
      "metadata": {
        "colab": {
          "base_uri": "https://localhost:8080/"
        },
        "id": "SGbIUhOHf3id",
        "outputId": "1d5f6420-6126-4075-bffc-cf608c669475"
      },
      "outputs": [
        {
          "output_type": "stream",
          "name": "stdout",
          "text": [
            "27/27 [==============================] - 0s 7ms/step - loss: 5.0983e-04 - accuracy: 0.9997\n",
            "Accuracy:  99.97289776802063\n"
          ]
        }
      ],
      "source": [
        "accuracy = model.evaluate(X_test,Y_test,batch_size=138)\n",
        "print(\"Accuracy: \",accuracy[1]*100)"
      ]
    },
    {
      "cell_type": "code",
      "source": [
        "plt.plot(fit.history['accuracy'])\n",
        "plt.title('model accuracy')\n",
        "plt.ylabel('accuracy')\n",
        "plt.xlabel('epoch')\n",
        "plt.legend(['train'], loc='upper left')\n",
        "plt.show()"
      ],
      "metadata": {
        "colab": {
          "base_uri": "https://localhost:8080/",
          "height": 295
        },
        "id": "dTZAwfPQL2jN",
        "outputId": "34abf2dc-725f-4869-b9fe-0a1764f6f53e"
      },
      "execution_count": 39,
      "outputs": [
        {
          "output_type": "display_data",
          "data": {
            "text/plain": [
              "<Figure size 432x288 with 1 Axes>"
            ],
            "image/png": "[encoded data removed]"
          },
          "metadata": {
            "needs_background": "light"
          }
        }
      ]
    },
    {
      "cell_type": "code",
      "source": [
        "plt.plot(fit.history['loss'])\n",
        "plt.title('model loss')\n",
        "plt.ylabel('loss')\n",
        "plt.xlabel('epoch')\n",
        "plt.legend(['train'], loc='upper left')\n",
        "plt.show()"
      ],
      "metadata": {
        "colab": {
          "base_uri": "https://localhost:8080/",
          "height": 295
        },
        "id": "GKBemPOPNcxk",
        "outputId": "2075bdce-16fe-47b8-e3c4-1570b8c1a403"
      },
      "execution_count": 40,
      "outputs": [
        {
          "output_type": "display_data",
          "data": {
            "text/plain": [
              "<Figure size 432x288 with 1 Axes>"
            ],
            "image/png": "[encoded data removed]"
          },
          "metadata": {
            "needs_background": "light"
          }
        }
      ]
    },
    {
      "cell_type": "code",
      "execution_count": 34,
      "metadata": {
        "id": "hBX1FbdTf6PS"
      },
      "outputs": [],
      "source": [
        "# model.save_weights('/content/drive/MyDrive/Freelance/NomanRafique/')\n",
        "model.save('my_third_model.h5') \n"
      ]
    },
    {
      "cell_type": "code",
      "execution_count": 36,
      "metadata": {
        "id": "w2a8SirfD2RV"
      },
      "outputs": [],
      "source": [
        "model.save('/content/drive/MyDrive/my_third_model.h5') "
      ]
    },
    {
      "cell_type": "code",
      "execution_count": null,
      "metadata": {
        "id": "jbIh3xz_uCaE"
      },
      "outputs": [],
      "source": []
    }
  ],
  "metadata": {
    "accelerator": "GPU",
    "colab": {
      "provenance": []
    },
    "gpuClass": "standard",
    "kernelspec": {
      "display_name": "Python 3 (ipykernel)",
      "language": "python",
      "name": "python3"
    },
    "language_info": {
      "codemirror_mode": {
        "name": "ipython",
        "version": 3
      },
      "file_extension": ".py",
      "mimetype": "text/x-python",
      "name": "python",
      "nbconvert_exporter": "python",
      "pygments_lexer": "ipython3",
      "version": "3.10.0"
    },
    "vscode": {
      "interpreter": {
        "hash": "767d51c1340bd893661ea55ea3124f6de3c7a262a8b4abca0554b478b1e2ff90"
      }
    }
  },
  "nbformat": 4,
  "nbformat_minor": 0
}